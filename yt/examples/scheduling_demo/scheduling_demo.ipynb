{
 "cells": [
  {
   "cell_type": "code",
   "execution_count": null,
   "id": "b9eca4ac-ec5c-4d8f-976b-7fc08494da80",
   "metadata": {},
   "outputs": [],
   "source": [
    "import yt.wrapper as yt\n",
    "\n",
    "import time\n",
    "import sys"
   ]
  },
  {
   "cell_type": "code",
   "execution_count": null,
   "id": "ad0aadbf-7f0e-4606-9f3c-0fd4dd2e54a3",
   "metadata": {},
   "outputs": [],
   "source": [
    "# 1. Running a simple operation.\n",
    "\n",
    "# Prepare input.\n",
    "yt.create(\"table\", \"//tmp/in\", force=True)\n",
    "yt.write_table(\"//tmp/in\", [{\"a\": 1}])\n",
    "          \n",
    "# Run operation\n",
    "yt.run_map(\"sleep 60; cat\", \"//tmp/in\", \"//tmp/out\", format=\"yson\")\n",
    "\n",
    "# Read output.\n",
    "for row in yt.read_table(\"//tmp/out\"):\n",
    "    print(row)"
   ]
  },
  {
   "cell_type": "code",
   "execution_count": null,
   "id": "1181740f-11e3-42d6-8b47-59a58edb7ec1",
   "metadata": {},
   "outputs": [],
   "source": [
    "# 2. Running several operations.\n",
    "\n",
    "tracker = yt.OperationsTracker(print_progress=False)\n",
    "for i in range(6):\n",
    "    op = yt.run_operation(\n",
    "        yt.VanillaSpecBuilder()\n",
    "            .begin_task(\"task\")\n",
    "                .command(\"sleep 1000\")\n",
    "                .job_count(3)\n",
    "                .cpu_limit(2.0)\n",
    "            .end_task(),\n",
    "        sync=False,\n",
    "    )\n",
    "    tracker.add(op)"
   ]
  },
  {
   "cell_type": "code",
   "execution_count": null,
   "id": "3723a3e9-3a64-415c-a572-a6db0daa976f",
   "metadata": {},
   "outputs": [],
   "source": [
    "tracker.abort_all()"
   ]
  },
  {
   "cell_type": "code",
   "execution_count": null,
   "id": "947b14e1-ad9b-4fa7-8473-eeaed06ecec5",
   "metadata": {},
   "outputs": [],
   "source": [
    "# 3. Running several operations with different weights.\n",
    "\n",
    "tracker = yt.OperationsTracker(print_progress=False)\n",
    "for i in range(3):\n",
    "    op = yt.run_operation(\n",
    "        yt.VanillaSpecBuilder()\n",
    "            .begin_task(\"task\")\n",
    "                .command(\"sleep 1000\")\n",
    "                .job_count(12)\n",
    "            .end_task()\n",
    "            .weight(i + 1),\n",
    "        sync=False,\n",
    "    )\n",
    "    tracker.add(op)"
   ]
  },
  {
   "cell_type": "code",
   "execution_count": null,
   "id": "1c465fb3-b683-407a-acbf-d7eadbec73a4",
   "metadata": {},
   "outputs": [],
   "source": [
    "tracker.abort_all()"
   ]
  },
  {
   "cell_type": "code",
   "execution_count": null,
   "id": "f6b5c03d-7bba-4188-86e4-5d5b0f1a95b9",
   "metadata": {},
   "outputs": [],
   "source": [
    "# 4. Running several operations in different pools.\n",
    "\n",
    "tracker = yt.OperationsTracker(print_progress=False)\n",
    "for pool in [\"a\", \"b\"]:\n",
    "    for i in range(3):\n",
    "        op = yt.run_operation(\n",
    "            yt.VanillaSpecBuilder()\n",
    "                .begin_task(\"task\")\n",
    "                    .command(\"sleep 1000\")\n",
    "                    .job_count(12)\n",
    "                .end_task()\n",
    "                .pool(pool)\n",
    "                .weight(i + 1), \n",
    "            sync=False,\n",
    "        )\n",
    "        tracker.add(op)"
   ]
  },
  {
   "cell_type": "code",
   "execution_count": null,
   "id": "3d9851b3-bd66-4e93-98c8-c1c483d7777d",
   "metadata": {},
   "outputs": [],
   "source": [
    "tracker.abort_all()"
   ]
  },
  {
   "cell_type": "code",
   "execution_count": null,
   "id": "21cfd464-28bf-4d5e-8734-43a5d2aca978",
   "metadata": {},
   "outputs": [],
   "source": [
    "def run_sleeping_operation(job_count=1, cpu_limit=1.0, memory_limit=512 * 1024**2, pool=None, weight=None):\n",
    "    spec_builder = yt.VanillaSpecBuilder()\\\n",
    "        .begin_task(\"task\")\\\n",
    "            .command(\"sleep 1000\")\\\n",
    "            .job_count(job_count)\\\n",
    "            .cpu_limit(cpu_limit)\\\n",
    "            .memory_limit(memory_limit)\\\n",
    "            .spec({\"user_job_memory_digest_default_value\": 1.0})\\\n",
    "        .end_task()\n",
    "    \n",
    "    if pool is not None:\n",
    "        spec_builder = spec_builder.pool(pool)\n",
    "    if weight is not None:\n",
    "        spec_builder = spec_builder.weight(weight)\n",
    "        \n",
    "    return yt.run_operation(spec_builder, sync=False)"
   ]
  },
  {
   "cell_type": "code",
   "execution_count": null,
   "id": "f0b08ebc-b0f8-41a7-a72f-aad7bafe1589",
   "metadata": {},
   "outputs": [],
   "source": [
    "# 5. Creating a pool.\n",
    "\n",
    "yt.create(\"scheduler_pool\", attributes={\"name\": \"c\", \"parent_name\": \"example\", \"pool_tree\": \"default\"})"
   ]
  },
  {
   "cell_type": "code",
   "execution_count": null,
   "id": "a99dbc1b-aa09-419f-9161-ee4539470eab",
   "metadata": {},
   "outputs": [],
   "source": [
    "yt.remove(\"//sys/pool_trees/default/example/c\")"
   ]
  },
  {
   "cell_type": "code",
   "execution_count": null,
   "id": "0021f5ef-23a0-4c7a-8ec1-217e37596d94",
   "metadata": {},
   "outputs": [],
   "source": [
    "# 6. Setting pool strong guarantees.\n",
    "\n",
    "# (pool_path, cpu_guarantee)\n",
    "pool_params = [\n",
    "    (\"company\", 24.0),\n",
    "    (\"company/development\", 20.0),\n",
    "    (\"company/development/production\", 16.0),\n",
    "    (\"company/development/testing\", 4.0),\n",
    "    (\"company/analytics\", 4.0),\n",
    "    (\"company/analytics/chyt\", 4.0),\n",
    "]\n",
    "\n",
    "for pool_path, cpu_guarantee in pool_params:\n",
    "    yt.set(\"//sys/pool_trees/default/\" + pool_path + \"/@strong_guarantee_resources\", {\"cpu\": cpu_guarantee})"
   ]
  },
  {
   "cell_type": "code",
   "execution_count": null,
   "id": "a60a567a-fb06-42b6-aa9c-71e06449b5cb",
   "metadata": {},
   "outputs": [],
   "source": [
    "# 7. Running operations in pools with guarantees.\n",
    "\n",
    "# (job_count, pool)\n",
    "operation_params = [\n",
    "    (4, \"production\"),\n",
    "    (4, \"chyt\"),\n",
    "    (12, \"production\"),\n",
    "    (8, \"testing\"),\n",
    "    (4, \"bi\"),\n",
    "]\n",
    "\n",
    "ops = []\n",
    "for job_count, pool in operation_params:\n",
    "    op = run_sleeping_operation(job_count=job_count, pool=pool)\n",
    "    ops.append(op)"
   ]
  },
  {
   "cell_type": "code",
   "execution_count": null,
   "id": "1612411f-8ae4-4379-a1f2-e485509b558d",
   "metadata": {},
   "outputs": [],
   "source": [
    "# Abort some operations in guaranteed pools.\n",
    "for op in ops[:2]:\n",
    "    op.abort()"
   ]
  },
  {
   "cell_type": "code",
   "execution_count": null,
   "id": "a29dae17-0122-47ec-93e2-25e76174c71f",
   "metadata": {},
   "outputs": [],
   "source": [
    "# Abort the rest.\n",
    "for op in ops[2:]:\n",
    "    op.abort()"
   ]
  },
  {
   "cell_type": "code",
   "execution_count": null,
   "id": "a5a0ab02-3a4b-402a-8b4e-b37869c6f2a3",
   "metadata": {},
   "outputs": [],
   "source": [
    "# 8. Resource limits.\n",
    "\n",
    "yt.set(\"//sys/pool_trees/default/company/development/testing/@resource_limits\", {\"cpu\": 5.0})"
   ]
  },
  {
   "cell_type": "code",
   "execution_count": null,
   "id": "4d86b1b7-ca42-449c-92e7-c173ca97ebd6",
   "metadata": {},
   "outputs": [],
   "source": [
    "op = run_sleeping_operation(job_count=8, pool=\"testing\")"
   ]
  },
  {
   "cell_type": "code",
   "execution_count": null,
   "id": "cd4974ca-69c7-4c59-af2b-98405a411805",
   "metadata": {},
   "outputs": [],
   "source": [
    "op.abort()\n",
    "\n",
    "yt.remove(\"//sys/pool_trees/default/company/development/testing/@resource_limits\")"
   ]
  },
  {
   "cell_type": "code",
   "execution_count": null,
   "id": "fd68201c-a324-4e36-9cca-f10f90c07502",
   "metadata": {},
   "outputs": [],
   "source": [
    "# 9. Running operations with different resource demand profiles.\n",
    "\n",
    "# (cpu_limit, memory_limit)\n",
    "operation_params = [\n",
    "    (2.0, 1024**3),\n",
    "    (1.0, 10 * 1024**3),\n",
    "]\n",
    "\n",
    "tracker = yt.OperationsTracker(print_progress=False)\n",
    "for cpu_limit, memory_limit in operation_params:\n",
    "    op = run_sleeping_operation(cpu_limit=cpu_limit, memory_limit=memory_limit, pool=\"testing\")\n",
    "    tracker.add(op)"
   ]
  },
  {
   "cell_type": "code",
   "execution_count": null,
   "id": "bfbfe0ea-11ef-4f57-9350-196c73aa718b",
   "metadata": {},
   "outputs": [],
   "source": [
    "tracker.abort_all()"
   ]
  },
  {
   "cell_type": "code",
   "execution_count": null,
   "id": "8c6bfd67-2206-4525-957f-c31e63639381",
   "metadata": {},
   "outputs": [],
   "source": [
    "# 10. Vector guarantees.\n",
    "\n",
    "# (pool_path, guarantees)\n",
    "pool_params = [\n",
    "    (\"company\", {\"cpu\": 24.0, \"memory\": 54 * 1024**3}),\n",
    "    (\"company/analytics\", {\"cpu\": 4.0, \"memory\": 16 * 1024**3}),\n",
    "    (\"company/analytics/chyt\", {\"cpu\": 4.0, \"memory\": 16 * 1024**3}),\n",
    "]\n",
    "\n",
    "for pool_path, guarantees in pool_params:\n",
    "    yt.set(\"//sys/pool_trees/default/\" + pool_path + \"/@strong_guarantee_resources\", guarantees)"
   ]
  },
  {
   "cell_type": "code",
   "execution_count": null,
   "id": "09637b5f-1357-49c5-81df-013c8d74b977",
   "metadata": {},
   "outputs": [],
   "source": [
    "# 11. Job preemption.\n",
    "\n",
    "yt.set(\"//sys/pool_trees/default/company/development/testing/@allow_regular_preemption\", False)\n",
    "\n",
    "tracker = yt.OperationsTracker(print_progress=False)\n",
    "tracker.add(run_sleeping_operation(job_count=20, pool=\"testing\"))"
   ]
  },
  {
   "cell_type": "code",
   "execution_count": null,
   "id": "f76ae199-0a31-45bc-a07a-1ed63efc31e5",
   "metadata": {},
   "outputs": [],
   "source": [
    "# Only 4 jobs will run, because preemption is forbidden.\n",
    "tracker.add(run_sleeping_operation(job_count=12, pool=\"testing\"))"
   ]
  },
  {
   "cell_type": "code",
   "execution_count": null,
   "id": "50e4f3b1-9cf3-4453-a37b-0957b70724cc",
   "metadata": {},
   "outputs": [],
   "source": [
    "# Enable preemption.\n",
    "yt.set(\"//sys/pool_trees/default/company/development/testing/@allow_regular_preemption\", True)"
   ]
  },
  {
   "cell_type": "code",
   "execution_count": null,
   "id": "ad0c9b9a-e667-4bb4-9c59-d1098d6a3feb",
   "metadata": {},
   "outputs": [],
   "source": [
    "tracker.abort_all()\n",
    "\n",
    "yt.remove(\"//sys/pool_trees/default/company/development/testing/@allow_regular_preemption\")"
   ]
  },
  {
   "cell_type": "code",
   "execution_count": null,
   "id": "e9f70143-f1e9-40c7-a157-d780673efd7a",
   "metadata": {},
   "outputs": [],
   "source": [
    "# 12. FIFO pools.\n",
    "\n",
    "yt.set(\"//sys/pool_trees/default/company/development/testing/@mode\", \"fifo\")\n",
    "\n",
    "tracker = yt.OperationsTracker(print_progress=False)\n",
    "for _ in range(6):\n",
    "    op = run_sleeping_operation(job_count=5, pool=\"testing\")\n",
    "    tracker.add(op)\n",
    "    time.sleep(0.1)"
   ]
  },
  {
   "cell_type": "code",
   "execution_count": null,
   "id": "0b1496c3-d548-4ded-a32a-17c14d1ee8c0",
   "metadata": {},
   "outputs": [],
   "source": [
    "tracker.add(run_sleeping_operation(job_count=1, pool=\"testing\", weight=100.0))"
   ]
  },
  {
   "cell_type": "code",
   "execution_count": null,
   "id": "3cca5103-0363-4aa3-abc5-a9168860be5c",
   "metadata": {},
   "outputs": [],
   "source": [
    "tracker.abort_all()\n",
    "\n",
    "yt.set(\"//sys/pool_trees/default/company/development/testing/@mode\", \"fair_share\")"
   ]
  },
  {
   "cell_type": "code",
   "execution_count": null,
   "id": "c6cd336e-00bc-4e3c-967e-6c9c27ca9ba7",
   "metadata": {},
   "outputs": [],
   "source": [
    "# 13. Several pool trees.\n",
    "\n",
    "# Get exec nodes.\n",
    "all_nodes = yt.list(\"//sys/cluster_nodes\", attributes=[\"tags\", \"flavors\"])\n",
    "exec_nodes = [node for node in all_nodes if \"exec\" in node.attributes[\"flavors\"]]\n",
    "\n",
    "# Set custom tag for one node.\n",
    "other_tree_node = exec_nodes[0]\n",
    "yt.set(\"//sys/cluster_nodes/\" + other_tree_node + \"/@user_tags\", [\"custom_tag\"])\n",
    "\n",
    "for node in exec_nodes:\n",
    "    print(yt.get(\"//sys/cluster_nodes/\" + node + \"/@tags\"), file=sys.stderr)\n",
    "\n",
    "# Configure another pool tree.\n",
    "yt.set(\"//sys/pool_trees/default/@config/nodes_filter\", \"!custom_tag\")\n",
    "yt.create(\"scheduler_pool_tree\", attributes={\"name\": \"other\", \"config\": {\"nodes_filter\": \"custom_tag\"}})"
   ]
  },
  {
   "cell_type": "code",
   "execution_count": null,
   "id": "462196be-f974-4c22-bdee-c66d26ead70a",
   "metadata": {},
   "outputs": [],
   "source": [
    "yt.create(\"scheduler_pool\", attributes={\"name\": \"testing\", \"pool_tree\": \"other\"})\n",
    "\n",
    "op = yt.run_operation(\n",
    "    yt.VanillaSpecBuilder()\n",
    "        .begin_task(\"task\")\n",
    "            .command(\"sleep 1000\")\n",
    "            .job_count(24)\n",
    "        .end_task()\n",
    "        .pool(\"testing\")\n",
    "        .pool_trees([\"default\", \"other\"]),\n",
    "    sync=False,\n",
    ")"
   ]
  },
  {
   "cell_type": "code",
   "execution_count": null,
   "id": "c812b314-fc1b-4945-bf5c-de2065b9123d",
   "metadata": {},
   "outputs": [],
   "source": [
    "op.abort()\n",
    "\n",
    "yt.remove(\"//sys/pool_trees/other\", recursive=True)\n",
    "yt.set(\"//sys/pool_trees/default/@config/nodes_filter\", \"\")\n",
    "yt.set(\"//sys/cluster_nodes/\" + other_tree_node + \"/@user_tags\", [])"
   ]
  },
  {
   "cell_type": "code",
   "execution_count": null,
   "id": "97d99539-0ab2-4ae9-9f31-572834588e39",
   "metadata": {},
   "outputs": [],
   "source": [
    "# 14. Speculative jobs.\n",
    "\n",
    "op = yt.run_operation(\n",
    "    yt.VanillaSpecBuilder()\n",
    "        .begin_task(\"task\")\n",
    "            .command(\"sleep 1000\")\n",
    "            .job_count(1)\n",
    "            .spec({\"job_speculation_timeout\": 5000})\n",
    "        .end_task(),\n",
    "    sync=False,\n",
    ")"
   ]
  },
  {
   "cell_type": "code",
   "execution_count": null,
   "id": "c32dc48b-6b13-40d5-97c6-d2a2667f7891",
   "metadata": {},
   "outputs": [],
   "source": [
    "op.abort()"
   ]
  },
  {
   "cell_type": "code",
   "execution_count": null,
   "id": "e921d00e-bd28-4075-9c6a-c75fa4f40668",
   "metadata": {},
   "outputs": [],
   "source": [
    "# 15. Integral guarantees.\n",
    "\n",
    "# (pool_path, cpu_guarantee)\n",
    "pool_params = [\n",
    "    (\"company/analytics/chyt\", 0.0),\n",
    "    (\"company/analytics\", 0.0),\n",
    "    (\"company\", 22.0),\n",
    "    (\"company/development\", 22.0),\n",
    "]\n",
    "\n",
    "# Reconfigure strong guarantees.\n",
    "for pool_path, cpu_guarantee in pool_params:\n",
    "    yt.set(\"//sys/pool_trees/default/\" + pool_path + \"/@strong_guarantee_resources\", {\"cpu\": cpu_guarantee})\n",
    "\n",
    "# (pool_path, integral_guarantees)\n",
    "pool_params = [\n",
    "    (\"example\", {\"resource_flow\": {\"cpu\": 1.0}}),\n",
    "    (\"example/integral\", {\n",
    "        \"guarantee_type\": \"relaxed\",\n",
    "        \"resource_flow\": {\"cpu\": 1.0},\n",
    "    }),\n",
    "]\n",
    "\n",
    "# Configure integral guarantees.\n",
    "yt.create(\"scheduler_pool\", attributes={\"name\": \"integral\", \"parent_name\": \"example\", \"pool_tree\": \"default\"})\n",
    "for pool_path, integral_guarantees in pool_params:\n",
    "    yt.set(\"//sys/pool_trees/default/\" + pool_path + \"/@integral_guarantees\", integral_guarantees)\n",
    "    \n",
    "# Track accumulated resource volume.\n",
    "pools_orchid_path = \"//sys/scheduler/orchid/scheduler/pool_trees/default/pools\"\n",
    "while not (\"integral\" in yt.list(pools_orchid_path) and yt.exists(pools_orchid_path + \"/integral/accumulated_resource_volume/cpu\")):\n",
    "    time.sleep(0.1)\n",
    "    \n",
    "def get_accumulated_cpu_volume():\n",
    "    return yt.get(pools_orchid_path + \"/integral/accumulated_resource_volume/cpu\")\n",
    "\n",
    "start_time = time.time()\n",
    "for i in range(10):\n",
    "    time.sleep(1.0)\n",
    "    elapsed = time.time() - start_time\n",
    "    print(\"Seconds elapsed: {}, accumulated CPU volume: {}\".format(elapsed, get_accumulated_cpu_volume()))"
   ]
  },
  {
   "cell_type": "code",
   "execution_count": null,
   "id": "958f917a-0dd4-4fc7-bf19-85b090926900",
   "metadata": {},
   "outputs": [],
   "source": [
    "# Run operation in integral pool.\n",
    "op = run_sleeping_operation(job_count=2, pool=\"integral\")\n",
    "\n",
    "start_time = time.time()\n",
    "for i in range(10):\n",
    "    time.sleep(1.0)\n",
    "    elapsed = time.time() - start_time\n",
    "    print(\"Seconds elapsed: {}, accumulated CPU volume: {}\".format(elapsed, get_accumulated_cpu_volume()))"
   ]
  },
  {
   "cell_type": "code",
   "execution_count": null,
   "id": "aa02f2c0-2930-4235-aa2b-0bb7e402f71e",
   "metadata": {},
   "outputs": [],
   "source": [
    "op.abort()"
   ]
  },
  {
   "cell_type": "code",
   "execution_count": null,
   "id": "67684be0-4202-4242-9314-8584c7302ed8",
   "metadata": {},
   "outputs": [],
   "source": [
    "# The end."
   ]
  },
  {
   "cell_type": "code",
   "execution_count": null,
   "id": "2e38766d-a1f5-460b-9c1d-df0bbe74128d",
   "metadata": {},
   "outputs": [],
   "source": [
    "# P.S.\n",
    "def reset_cluster():\n",
    "    operations = yt.list_operations()[\"operations\"]\n",
    "    for op in operations:\n",
    "        yt.abort_operation(op[\"id\"])\n",
    "    \n",
    "    for tree in yt.list(\"//sys/pool_trees\"):\n",
    "        if tree != \"default\":\n",
    "            yt.remove(\"//sys/pool_trees/\" + tree, recursive=True)\n",
    "    yt.remove(\"//sys/pool_trees/default/*\", recursive=True, force=True)\n",
    "    \n",
    "    for node in yt.list(\"//sys/cluster_nodes\"):\n",
    "        yt.set(\"//sys/cluster_nodes/\" + node + \"/@user_tags\", [])\n",
    "    \n",
    "    yt.set(\"//sys/pool_trees/default/@config\", {\n",
    "        \"default_parent_pool\": \"research\",\n",
    "        \"nodes_filter\": \"\",\n",
    "        \"fair_share_starvation_timeout\": 100,\n",
    "        \"fair_share_starvation_tolerance\": 0.99,\n",
    "        \"non_preemptible_resource_usage_threshold\": {\n",
    "            \"user_slots\": 0,\n",
    "        },\n",
    "        \"preemption_check_satisfaction\": False,\n",
    "        \"preemption_check_starvation\": False,\n",
    "        \"preemption_satisfaction_threshold\": 0.99,\n",
    "        \"integral_guarantees\": {\n",
    "            \"smooth_period\": 1000,\n",
    "        },\n",
    "    })\n",
    "    \n",
    "    pools = [\n",
    "        (\"admin\", None),\n",
    "        (\"company\", None),\n",
    "        (\"analytics\", \"company\"),\n",
    "        (\"bi\", \"analytics\"),\n",
    "        (\"chyt\", \"analytics\"),\n",
    "        (\"research\", \"analytics\"),\n",
    "        (\"development\", \"company\"),\n",
    "        (\"production\", \"development\"),\n",
    "        (\"testing\", \"development\"),\n",
    "        (\"example\", None),\n",
    "        (\"a\", \"example\"),\n",
    "        (\"b\", \"example\"),\n",
    "    ]\n",
    "    for name, parent_name in pools:\n",
    "        attributes = {\"name\": name, \"pool_tree\": \"default\"}\n",
    "        if parent_name is not None:\n",
    "            attributes[\"parent_name\"] = parent_name\n",
    "        yt.create(\"scheduler_pool\", attributes=attributes)\n",
    "    \n",
    "    yt.set(\"//sys/pool_trees/default/example/a/@weight\", 3.0)"
   ]
  },
  {
   "cell_type": "code",
   "execution_count": null,
   "id": "b966f39e-a7b0-41f2-85ee-c0d4db54f074",
   "metadata": {},
   "outputs": [],
   "source": [
    "reset_cluster()"
   ]
  },
  {
   "cell_type": "code",
   "execution_count": null,
   "id": "ffcc740e-2219-4ee0-9a9f-38d0284d69bf",
   "metadata": {},
   "outputs": [],
   "source": []
  }
 ],
 "metadata": {
  "kernelspec": {
   "display_name": "Python 3 (ipykernel)",
   "language": "python",
   "name": "python3"
  },
  "language_info": {
   "codemirror_mode": {
    "name": "ipython",
    "version": 3
   },
   "file_extension": ".py",
   "mimetype": "text/x-python",
   "name": "python",
   "nbconvert_exporter": "python",
   "pygments_lexer": "ipython3",
   "version": "3.7.12"
  }
 },
 "nbformat": 4,
 "nbformat_minor": 5
}
